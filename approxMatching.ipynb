{
 "cells": [
  {
   "cell_type": "code",
   "execution_count": 1,
   "metadata": {},
   "outputs": [],
   "source": [
    "# The idea of exact matching can be customized to\n",
    "# approximate matching. \n",
    "# Where the difference is initializing first row to zeros \n",
    "# to avoid any bias.\n",
    "# Then find the integer in the last row with 'n' mismatches.\n",
    "# Backtrace from that point to zero\n",
    "\n",
    "def approxMatch(x, y):\n",
    "    D = []\n",
    "    for i in range(len(x) + 1):\n",
    "        D.append([0] * (len(y) + 1))\n",
    "        \n",
    "    for i in range(1, len(x)+1):\n",
    "        D[i][0] = i\n",
    "\n",
    "    for i in range(1, len(x) + 1):\n",
    "        for j in range(1, len(y) + 1):\n",
    "            distHor = D[i][j-1] + 1\n",
    "            distVer = D[i-1][j] + 1\n",
    "            if x[i-1] == y[j-1]:\n",
    "                distDiag = D[i-1][j-1]\n",
    "            else:\n",
    "                distDiag = D[i-1][j-1] + 1#score[alphabet.index(x[i-1])][alphabet.index(y[j-1])]\n",
    "            \n",
    "            D[i][j] = min(distHor, distVer, distDiag)\n",
    "            \n",
    "    return min(D[-1])"
   ]
  },
  {
   "cell_type": "code",
   "execution_count": 2,
   "metadata": {},
   "outputs": [
    {
     "data": {
      "text/plain": [
       "2"
      ]
     },
     "execution_count": 2,
     "metadata": {},
     "output_type": "execute_result"
    }
   ],
   "source": [
    "p = 'ATCGCCATT'\n",
    "t = 'GATTGGACCAATCCCCTTATTTGGG'\n",
    "approxMatch(p, t)"
   ]
  },
  {
   "cell_type": "code",
   "execution_count": null,
   "metadata": {},
   "outputs": [],
   "source": []
  }
 ],
 "metadata": {
  "kernelspec": {
   "display_name": "Python 3",
   "language": "python",
   "name": "python3"
  },
  "language_info": {
   "codemirror_mode": {
    "name": "ipython",
    "version": 3
   },
   "file_extension": ".py",
   "mimetype": "text/x-python",
   "name": "python",
   "nbconvert_exporter": "python",
   "pygments_lexer": "ipython3",
   "version": "3.5.2"
  }
 },
 "nbformat": 4,
 "nbformat_minor": 2
}
