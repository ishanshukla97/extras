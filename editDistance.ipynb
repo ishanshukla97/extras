{
 "cells": [
  {
   "cell_type": "code",
   "execution_count": 13,
   "metadata": {},
   "outputs": [],
   "source": [
    "# Find minimum number of edits to convert a string 'y' to 'x'\n",
    "# using dynamic programming\n",
    "\n",
    "\n",
    "def editDistance(x, y):\n",
    "    D = []\n",
    "    for i in range(len(x) + 1):\n",
    "        D.append([0] * (len(y) + 1))\n",
    "        \n",
    "    for i in range(len(x)+1):\n",
    "        D[i][0] = i\n",
    "    for i in range(len(y)+1):\n",
    "        D[0][i] = i\n",
    "        \n",
    "    for i in range(1, len(x) + 1):\n",
    "        for j in range(1, len(y) + 1):\n",
    "            distHor = D[i][j-1] + 1\n",
    "            distVer = D[i-1][j] + 1\n",
    "            if x[i-1] == y[j-1]:\n",
    "                distDiag = D[i-1][j-1]\n",
    "            else:\n",
    "                distDiag = D[i-1][j-1] + 1\n",
    "            \n",
    "            D[i][j] = min(distHor, distVer, distDiag)\n",
    "            \n",
    "    return D[-1][-1], D\n"
   ]
  },
  {
   "cell_type": "code",
   "execution_count": 14,
   "metadata": {},
   "outputs": [
    {
     "data": {
      "text/plain": [
       "(3,\n",
       " [[0, 1, 2, 3, 4, 5, 6, 7, 8, 9, 10],\n",
       "  [1, 1, 2, 3, 4, 5, 5, 6, 7, 8, 9],\n",
       "  [2, 2, 1, 2, 3, 4, 5, 6, 7, 8, 9],\n",
       "  [3, 3, 2, 1, 2, 3, 4, 5, 6, 7, 8],\n",
       "  [4, 4, 3, 2, 1, 2, 3, 4, 5, 6, 7],\n",
       "  [5, 5, 4, 3, 2, 1, 2, 3, 4, 5, 6],\n",
       "  [6, 6, 5, 4, 3, 2, 2, 3, 4, 5, 6],\n",
       "  [7, 7, 6, 5, 4, 3, 2, 3, 4, 5, 6],\n",
       "  [8, 8, 7, 6, 5, 4, 3, 2, 3, 4, 5],\n",
       "  [9, 9, 8, 7, 6, 5, 4, 3, 2, 3, 4],\n",
       "  [10, 10, 9, 8, 7, 6, 5, 4, 3, 2, 3]])"
      ]
     },
     "execution_count": 14,
     "metadata": {},
     "output_type": "execute_result"
    }
   ],
   "source": [
    "x = 'shake spea'\n",
    "y = 'Shakespear'\n",
    "editDistance(x,y)"
   ]
  },
  {
   "cell_type": "code",
   "execution_count": null,
   "metadata": {},
   "outputs": [],
   "source": []
  }
 ],
 "metadata": {
  "kernelspec": {
   "display_name": "Python 3",
   "language": "python",
   "name": "python3"
  },
  "language_info": {
   "codemirror_mode": {
    "name": "ipython",
    "version": 3
   },
   "file_extension": ".py",
   "mimetype": "text/x-python",
   "name": "python",
   "nbconvert_exporter": "python",
   "pygments_lexer": "ipython3",
   "version": "3.5.2"
  }
 },
 "nbformat": 4,
 "nbformat_minor": 2
}
