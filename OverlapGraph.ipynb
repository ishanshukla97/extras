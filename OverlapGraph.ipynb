{
 "cells": [
  {
   "cell_type": "code",
   "execution_count": 2,
   "metadata": {},
   "outputs": [],
   "source": [
    "\n",
    "from collections import defaultdict\n",
    "\n",
    "def overlap(a, b, min_length=3):\n",
    "    \"\"\" Return length of longest suffix of 'a' matching\n",
    "        a prefix of 'b' that is at least 'min_length'\n",
    "        characters long.  If no such overlap exists,\n",
    "        return 0. \"\"\"\n",
    "    start = 0  # start all the way at the left\n",
    "    while True:\n",
    "        start = a.find(b[:min_length], start)  # look for b's prefix in a\n",
    "        if start == -1:  # no more occurrences to right\n",
    "            return 0\n",
    "        # found occurrence; check for full suffix/prefix match\n",
    "        if b.startswith(a[start:]):\n",
    "            return len(a)-start\n",
    "        start += 1  # move just past previous match"
   ]
  },
  {
   "cell_type": "code",
   "execution_count": 3,
   "metadata": {},
   "outputs": [
    {
     "data": {
      "text/plain": [
       "3"
      ]
     },
     "execution_count": 3,
     "metadata": {},
     "output_type": "execute_result"
    }
   ],
   "source": [
    "overlap('ATGCGGGT', 'GGTGATTTA')"
   ]
  },
  {
   "cell_type": "code",
   "execution_count": 4,
   "metadata": {},
   "outputs": [],
   "source": [
    "#Builds an Overlap graph\n",
    "\n",
    "def overlaps(reads, k):\n",
    "    index = defaultdict(set)\n",
    "    for read in reads:\n",
    "        for i in range(len(read) - k + 1): #Associate every k-mer to a read that occurs in it\n",
    "            kmer = read[i:i+k]\n",
    "            index[kmer].add(read)\n",
    "    \n",
    "    graph = defaultdict(set)\n",
    "    for read in reads:\n",
    "        suffix = read[-k:] #Suffix of read\n",
    "        occur_reads = index[suffix] #Reads with occurences of that suffix\n",
    "        for ocr in occur_reads: #For every read with that suffix\n",
    "            if read != ocr: #Ignore overlap of suffix with its own read\n",
    "                if overlap(read, ocr, k): #If overlap occurs between a suffix and read\n",
    "                    graph[read].add(ocr) #Associate both the reads with edge in graph\n",
    "    edges = 0\n",
    "    for read in graph:\n",
    "        edges += len(graph[read]) #count number of edges in graph\n",
    "    \n",
    "    return len(graph), edges, graph\n",
    "    \n"
   ]
  },
  {
   "cell_type": "code",
   "execution_count": null,
   "metadata": {},
   "outputs": [],
   "source": []
  }
 ],
 "metadata": {
  "kernelspec": {
   "display_name": "Python 3",
   "language": "python",
   "name": "python3"
  },
  "language_info": {
   "codemirror_mode": {
    "name": "ipython",
    "version": 3
   },
   "file_extension": ".py",
   "mimetype": "text/x-python",
   "name": "python",
   "nbconvert_exporter": "python",
   "pygments_lexer": "ipython3",
   "version": "3.5.2"
  }
 },
 "nbformat": 4,
 "nbformat_minor": 2
}
