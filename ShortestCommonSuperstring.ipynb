{
 "cells": [
  {
   "cell_type": "code",
   "execution_count": 5,
   "metadata": {},
   "outputs": [
    {
     "data": {
      "text/plain": [
       "('GATTGCCTTGG',\n",
       " ['CCTTGCTGGATT',\n",
       "  'CCTTGCGATTGG',\n",
       "  'CCTTGGATTGC',\n",
       "  'TGCCTTGGATT',\n",
       "  'TGGATTGCCTT',\n",
       "  'GATTGCCTTGG'])"
      ]
     },
     "execution_count": 5,
     "metadata": {},
     "output_type": "execute_result"
    }
   ],
   "source": [
    "# Shortest Common Superstring\n",
    "# NP-Complete - No efficient solution for large inputs\n",
    "# Return global optima\n",
    "\n",
    "import itertools\n",
    "\n",
    "def overlap(a, b, min_length=3):\n",
    "    \"\"\" Return length of longest suffix of 'a' matching\n",
    "        a prefix of 'b' that is at least 'min_length'\n",
    "        characters long.  If no such overlap exists,\n",
    "        return 0. \"\"\"\n",
    "    start = 0  # start all the way at the left\n",
    "    while True:\n",
    "        start = a.find(b[:min_length], start)  # look for b's prefix in a\n",
    "        if start == -1:  # no more occurrences to right\n",
    "            return 0\n",
    "        # found occurrence; check for full suffix/prefix match\n",
    "        if b.startswith(a[start:]):\n",
    "            return len(a)-start\n",
    "        start += 1  # move just past previous match\n",
    "\n",
    "def scs(ss):\n",
    "    shortest_sup = None\n",
    "    short_sts = []\n",
    "    for ssperm in itertools.permutations(ss): # Try every possible ordering of reads - len(ss) factorial combinations!\n",
    "        sup = ssperm[0]\n",
    "        for i in range(len(ss) - 1):\n",
    "            olen = overlap(ssperm[i], ssperm[i+1], min_length=1) #overlap between adjacent reads\n",
    "            sup += ssperm[i+1][olen:] \n",
    "        if shortest_sup is None or len(sup) <= len(shortest_sup):\n",
    "            shortest_sup = sup\n",
    "            short_sts.append(sup)\n",
    "    return shortest_sup, short_sts\n",
    "\n",
    "reads = ['CCT', 'CTT', 'TGC', 'TGG', 'GAT', 'ATT']\n",
    "scs(reads)"
   ]
  },
  {
   "cell_type": "code",
   "execution_count": 6,
   "metadata": {},
   "outputs": [],
   "source": [
    "# Greedy Shortest Common Superstring\n",
    "# Might return a sub-optimal solution\n",
    "\n",
    "def pick_maximal_overlap(reads, k):\n",
    "    reada, readb = None, None\n",
    "    best_olen = 0\n",
    "    for a, b in itertools.permutations(reads, 2): # Try pairs of reads for highest overlap length\n",
    "        olen = overlap(a, b, min_length=k)\n",
    "        if olen > best_olen:\n",
    "            reada, readb = a, b\n",
    "            best_olen = olen\n",
    "    return reada, readb, best_olen\n",
    "\n",
    "def greedy_scs(reads, k):\n",
    "    read_a, read_b, olen = pick_maximal_overlap(reads, k)\n",
    "    while olen > 0:\n",
    "        reads.remove(read_a) #Remove read_a\n",
    "        reads.remove(read_b) #remove read_b\n",
    "        reads.append(read_a + read_b[olen:]) #concat read_a with read_b with overlap length suffix\n",
    "        read_a, read_b, olen = pick_maximal_overlap(reads, k)\n",
    "    return ''.join(reads)"
   ]
  },
  {
   "cell_type": "code",
   "execution_count": 7,
   "metadata": {},
   "outputs": [
    {
     "data": {
      "text/plain": [
       "'TGCCTTGGATT'"
      ]
     },
     "execution_count": 7,
     "metadata": {},
     "output_type": "execute_result"
    }
   ],
   "source": [
    "greedy_scs(reads, 1)"
   ]
  },
  {
   "cell_type": "code",
   "execution_count": null,
   "metadata": {},
   "outputs": [],
   "source": []
  }
 ],
 "metadata": {
  "kernelspec": {
   "display_name": "Python 3",
   "language": "python",
   "name": "python3"
  },
  "language_info": {
   "codemirror_mode": {
    "name": "ipython",
    "version": 3
   },
   "file_extension": ".py",
   "mimetype": "text/x-python",
   "name": "python",
   "nbconvert_exporter": "python",
   "pygments_lexer": "ipython3",
   "version": "3.5.2"
  }
 },
 "nbformat": 4,
 "nbformat_minor": 2
}
